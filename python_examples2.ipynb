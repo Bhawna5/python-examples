{
 "cells": [
  {
   "cell_type": "code",
   "execution_count": 9,
   "metadata": {},
   "outputs": [
    {
     "name": "stdout",
     "output_type": "stream",
     "text": [
      "[1 2 3]\n",
      "[1 3 4]\n"
     ]
    }
   ],
   "source": [
    "import numpy as np\n",
    "a=([1,2,3],[1,3,4])\n",
    "b=np.array(a)\n",
    "for i in b:\n",
    "    print(i)"
   ]
  },
  {
   "cell_type": "code",
   "execution_count": 36,
   "metadata": {},
   "outputs": [
    {
     "name": "stdout",
     "output_type": "stream",
     "text": [
      "enter l1:123\n"
     ]
    },
    {
     "data": {
      "text/plain": [
       "array([1, 2, 3])"
      ]
     },
     "execution_count": 36,
     "metadata": {},
     "output_type": "execute_result"
    }
   ],
   "source": [
    "#convert float aarays into int array\n",
    "a=list(input('enter l1:'))\n",
    "#b=list(input('enter l2:'))\n",
    "flt_lst1=[float(i) for i in a]\n",
    "#flt_lst2=[float(j) for j in b]\n",
    "flt_array=np.array((flt_lst1)) #,flt_lst2))\n",
    "#flt_array\n",
    "flt_array.astype(int)"
   ]
  },
  {
   "cell_type": "code",
   "execution_count": 35,
   "metadata": {},
   "outputs": [
    {
     "name": "stdout",
     "output_type": "stream",
     "text": [
      "enter r1 for a1:12\n",
      "enter r2 for a1:45\n",
      "enter r1 for a2:78\n",
      "enter r2 for a2:96\n",
      "array1:  [['1' '2']\n",
      " ['4' '5']]\n",
      "array2:  [['7' '8']\n",
      " ['9' '6']]\n"
     ]
    }
   ],
   "source": [
    "a=list(input('enter r1 for a1:'))\n",
    "b=list(input('enter r2 for a1:'))\n",
    "array1=np.array((a,b))\n",
    "c=list(input('enter r1 for a2:'))\n",
    "d=list(input('enter r2 for a2:'))\n",
    "array2=np.array((c,d))\n",
    "print('array1: ', array1)\n",
    "print('array2: ', array2)\n",
    "\n"
   ]
  },
  {
   "cell_type": "code",
   "execution_count": 60,
   "metadata": {},
   "outputs": [
    {
     "name": "stdout",
     "output_type": "stream",
     "text": [
      "a1: 123\n",
      "a2: 123\n",
      "array1=  [1 2 3]\n",
      "array2=  [1 2 3]\n",
      "arrays are equal\n"
     ]
    }
   ],
   "source": [
    "a=list(input('a1: '))\n",
    "b=list(input('a2: '))\n",
    "int_a=[int(i) for i in a]\n",
    "int_b=[int(i) for i in b]\n",
    "array1=np.array(int_a)\n",
    "array2=np.array(int_b)\n",
    "print('array1= ', array1)\n",
    "print('array2= ', array2)\n",
    "c=0\n",
    "if np.size(array1)!= np.size(array2):\n",
    "    print('Arrays are not equal')\n",
    "else:\n",
    "    for i in array1:\n",
    "        if array1[i-1]!=array2[i-1]:\n",
    "            print('arrays are not equal')\n",
    "            c=1\n",
    "            break\n",
    "    if c==0:\n",
    "        print('arrays are equal')\n",
    "        "
   ]
  },
  {
   "cell_type": "code",
   "execution_count": 110,
   "metadata": {},
   "outputs": [
    {
     "name": "stdout",
     "output_type": "stream",
     "text": [
      "input:  [[0.93491532 0.56783166]\n",
      " [0.99882053 0.70571772]\n",
      " [0.09636284 0.37073078]\n",
      " [0.63674007 0.99208224]\n",
      " [0.66449511 0.10471313]\n",
      " [0.77290403 0.38420291]\n",
      " [0.26961538 0.39257816]\n",
      " [0.67393041 0.88664077]\n",
      " [0.52502411 0.31434701]\n",
      " [0.04270106 0.38389046]]\n",
      "output:  [[1.09384618 0.54581486]\n",
      " [1.22297995 0.61510914]\n",
      " [0.38304974 1.3164969 ]\n",
      " [1.17884057 1.00019174]\n",
      " [0.67269503 0.15629771]\n",
      " [0.86312949 0.46131695]\n",
      " [0.4762458  0.96899711]\n",
      " [1.11369388 0.92086624]\n",
      " [0.61193493 0.5394842 ]\n",
      " [0.38625803 1.46001929]]\n"
     ]
    }
   ],
   "source": [
    "import math\n",
    "a=np.random.random((10,2))\n",
    "print('input: ', a)\n",
    "p=[]\n",
    "for i in range(10):\n",
    "    r=math.sqrt((a[i,0]*a[i,0])+(a[i,1]*a[i,1]))\n",
    "    Q=math.atan(a[i,1]/a[i,0])\n",
    "    p.append((r,Q))\n",
    "\n",
    "b=np.array(p)\n",
    "c=np.reshape(b,(10,2))\n",
    "print('output: ',c)"
   ]
  },
  {
   "cell_type": "code",
   "execution_count": null,
   "metadata": {},
   "outputs": [],
   "source": []
  }
 ],
 "metadata": {
  "kernelspec": {
   "display_name": "Python 3",
   "language": "python",
   "name": "python3"
  },
  "language_info": {
   "codemirror_mode": {
    "name": "ipython",
    "version": 3
   },
   "file_extension": ".py",
   "mimetype": "text/x-python",
   "name": "python",
   "nbconvert_exporter": "python",
   "pygments_lexer": "ipython3",
   "version": "3.7.0"
  }
 },
 "nbformat": 4,
 "nbformat_minor": 2
}
