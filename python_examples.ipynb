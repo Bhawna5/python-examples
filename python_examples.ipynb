{
 "cells": [
  {
   "cell_type": "code",
   "execution_count": 8,
   "metadata": {},
   "outputs": [
    {
     "name": "stdout",
     "output_type": "stream",
     "text": [
      "enter wordsgkh gchkhkhg khgf gh\n"
     ]
    },
    {
     "data": {
      "text/plain": [
       "'gkh gchkhkhg khgf gh'"
      ]
     },
     "execution_count": 8,
     "metadata": {},
     "output_type": "execute_result"
    }
   ],
   "source": [
    "a=input('enter words')\n",
    "a"
   ]
  },
  {
   "cell_type": "code",
   "execution_count": 9,
   "metadata": {},
   "outputs": [
    {
     "data": {
      "text/plain": [
       "['gkh', 'gchkhkhg', 'khgf', 'gh']"
      ]
     },
     "execution_count": 9,
     "metadata": {},
     "output_type": "execute_result"
    }
   ],
   "source": [
    "b=a.split()\n",
    "b"
   ]
  },
  {
   "cell_type": "code",
   "execution_count": 22,
   "metadata": {},
   "outputs": [],
   "source": [
    "def largest_word():\n",
    "    a=input('enter words for list: ')\n",
    "    b=a.split()\n",
    "    import numpy as np\n",
    "    c=0\n",
    "    max=0\n",
    "    for i in b:\n",
    "        c=c+1\n",
    "        d=0\n",
    "        for j in i:\n",
    "            d=d+1\n",
    "        if d>=max:\n",
    "            max=d\n",
    "            index=c-1\n",
    "    print('largest word is: '+ b[index])\n"
   ]
  },
  {
   "cell_type": "raw",
   "metadata": {},
   "source": []
  },
  {
   "cell_type": "code",
   "execution_count": 20,
   "metadata": {},
   "outputs": [
    {
     "name": "stdout",
     "output_type": "stream",
     "text": [
      "enter words for listjj jbkhj khjbobl jhb\n"
     ]
    }
   ],
   "source": [
    "largest_word()"
   ]
  },
  {
   "cell_type": "code",
   "execution_count": 27,
   "metadata": {},
   "outputs": [
    {
     "name": "stdout",
     "output_type": "stream",
     "text": [
      "enter length of first side4\n",
      "enter length of second side5\n",
      "enter length of third side6\n",
      "9.921567416492215\n"
     ]
    }
   ],
   "source": [
    "#wap to find the area of traingle\n",
    "a=int(input('enter length of first side'))\n",
    "b=int(input('enter length of second side'))\n",
    "c=int(input('enter length of third side'))\n",
    "s=(a+b+c)/2\n",
    "Area_of_triangle=(s*(s-a)*(s-b)*(s-c))**0.5\n",
    "print(Area_of_triangle)"
   ]
  },
  {
   "cell_type": "code",
   "execution_count": 23,
   "metadata": {},
   "outputs": [
    {
     "name": "stdout",
     "output_type": "stream",
     "text": [
      "enter words for listygoyu hgvkhgvbo khjgvhv\n",
      "largest word is: hgvkhgvbo\n"
     ]
    }
   ],
   "source": [
    "largest_word()"
   ]
  },
  {
   "cell_type": "code",
   "execution_count": 3,
   "metadata": {},
   "outputs": [
    {
     "data": {
      "text/plain": [
       "array([[1.87186574, 1.33023881],\n",
       "       [1.47112445, 1.01240585],\n",
       "       [1.72488866, 1.20983713],\n",
       "       [1.79502783, 1.29675417],\n",
       "       [0.63608945, 0.50760022]])"
      ]
     },
     "execution_count": 3,
     "metadata": {},
     "output_type": "execute_result"
    }
   ],
   "source": [
    "import numpy as np\n",
    "a=np.random.random((5,3))\n",
    "b=np.random.random((3,2))\n",
    "c=np.dot(a,b)\n",
    "c"
   ]
  },
  {
   "cell_type": "code",
   "execution_count": 47,
   "metadata": {},
   "outputs": [
    {
     "name": "stdout",
     "output_type": "stream",
     "text": [
      "enter array1 elements: 1234\n",
      "enter array2 elements: 7895\n",
      "No common elements\n"
     ]
    }
   ],
   "source": [
    "a=list(input('enter array1 elements: '))\n",
    "b=list(input('enter array2 elements: '))\n",
    "f=0\n",
    "n=len(a)\n",
    "#n=str(n)\n",
    "for i in range(n):\n",
    "    d=0\n",
    "    c=0\n",
    "    for k in range(i+1,len(a)):\n",
    "        if a[i]==a[k]:\n",
    "            d=1\n",
    "    if d==0:\n",
    "        for j in range(len(b)):\n",
    "            if a[i]==b[j]: \n",
    "                c=1\n",
    "    if c!=0:\n",
    "        print(a[i])\n",
    "        f=1\n",
    "if f==0:\n",
    "    print('No common elements')\n",
    "        "
   ]
  },
  {
   "cell_type": "code",
   "execution_count": 72,
   "metadata": {},
   "outputs": [
    {
     "name": "stdout",
     "output_type": "stream",
     "text": [
      "Todays date is \n",
      "2018-12-23\n",
      "Tomorrows date will be \n",
      "2018-12-24\n",
      "Yesterdays date was \n",
      "2018-12-22\n"
     ]
    }
   ],
   "source": [
    "#how to import date\n",
    "from datetime import date, timedelta\n",
    "today=date.today()\n",
    "yesterday=today-timedelta(1)\n",
    "tomorrow=today+timedelta(1)\n",
    "print('Todays date is ') \n",
    "print(today)\n",
    "print('Tomorrows date will be ')\n",
    "print(tomorrow)\n",
    "print('Yesterdays date was ')\n",
    "print(yesterday)"
   ]
  },
  {
   "cell_type": "code",
   "execution_count": null,
   "metadata": {},
   "outputs": [],
   "source": []
  },
  {
   "cell_type": "code",
   "execution_count": null,
   "metadata": {},
   "outputs": [],
   "source": []
  }
 ],
 "metadata": {
  "kernelspec": {
   "display_name": "Python 3",
   "language": "python",
   "name": "python3"
  },
  "language_info": {
   "codemirror_mode": {
    "name": "ipython",
    "version": 3
   },
   "file_extension": ".py",
   "mimetype": "text/x-python",
   "name": "python",
   "nbconvert_exporter": "python",
   "pygments_lexer": "ipython3",
   "version": "3.7.0"
  }
 },
 "nbformat": 4,
 "nbformat_minor": 2
}
